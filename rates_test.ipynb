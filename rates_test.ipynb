{
 "cells": [
  {
   "cell_type": "code",
   "execution_count": 7,
   "id": "8abfc26f",
   "metadata": {},
   "outputs": [],
   "source": [
    "fred_api_key = \"f1578e7f7117865b1306f5c8a89d2e4e\""
   ]
  },
  {
   "cell_type": "code",
   "execution_count": 2,
   "id": "cb799c67",
   "metadata": {},
   "outputs": [
    {
     "name": "stderr",
     "output_type": "stream",
     "text": [
      "/Users/varunchowdary/opt/anaconda3/lib/python3.9/site-packages/pandas/core/computation/expressions.py:21: UserWarning: Pandas requires version '2.8.4' or newer of 'numexpr' (version '2.8.1' currently installed).\n",
      "  from pandas.core.computation.check import NUMEXPR_INSTALLED\n",
      "/Users/varunchowdary/opt/anaconda3/lib/python3.9/site-packages/pandas/core/arrays/masked.py:60: UserWarning: Pandas requires version '1.3.6' or newer of 'bottleneck' (version '1.3.4' currently installed).\n",
      "  from pandas.core import (\n"
     ]
    }
   ],
   "source": [
    "from fredapi import Fred\n",
    "import os\n",
    "from dotenv import load_dotenv\n",
    "\n"
   ]
  },
  {
   "cell_type": "code",
   "execution_count": 4,
   "id": "3352f2e6",
   "metadata": {},
   "outputs": [
    {
     "ename": "NameError",
     "evalue": "name 'fred_api_key' is not defined",
     "output_type": "error",
     "traceback": [
      "\u001b[0;31m---------------------------------------------------------------------------\u001b[0m",
      "\u001b[0;31mNameError\u001b[0m                                 Traceback (most recent call last)",
      "Input \u001b[0;32mIn [4]\u001b[0m, in \u001b[0;36m<cell line: 3>\u001b[0;34m()\u001b[0m\n\u001b[1;32m      1\u001b[0m \u001b[38;5;66;03m# Load environment variables from .env file\u001b[39;00m\n\u001b[1;32m      2\u001b[0m load_dotenv()\n\u001b[0;32m----> 3\u001b[0m api_key \u001b[38;5;241m=\u001b[39m os\u001b[38;5;241m.\u001b[39mgetenv(\u001b[38;5;124m\"\u001b[39m\u001b[38;5;124mFRED_API_KEY\u001b[39m\u001b[38;5;124m\"\u001b[39m, \u001b[43mfred_api_key\u001b[49m)\n\u001b[1;32m      4\u001b[0m \u001b[38;5;28mprint\u001b[39m(\u001b[38;5;124mf\u001b[39m\u001b[38;5;124m\"\u001b[39m\u001b[38;5;124mUsing FRED API key: \u001b[39m\u001b[38;5;132;01m{\u001b[39;00mapi_key\u001b[38;5;132;01m}\u001b[39;00m\u001b[38;5;124m\"\u001b[39m)\n",
      "\u001b[0;31mNameError\u001b[0m: name 'fred_api_key' is not defined"
     ]
    }
   ],
   "source": [
    "# Load environment variables from .env file\n",
    "load_dotenv()\n",
    "api_key = os.getenv(\"FRED_API_KEY\", fred_api_key)\n",
    "print(f\"Using FRED API key: {api_key}\")"
   ]
  },
  {
   "cell_type": "code",
   "execution_count": 40,
   "id": "69e7f522",
   "metadata": {},
   "outputs": [],
   "source": [
    "def get_yields():\n",
    "    fred = Fred(api_key=api_key)\n",
    "    terms = {\n",
    "        \"1M\": \"DGS1MO\",\n",
    "        \"3M\": \"DGS3MO\",\n",
    "        \"1Y\": \"GS1\",\n",
    "        \"5Y\": \"GS5\",\n",
    "        \"10Y\": \"GS10\",\n",
    "        \"30Y\": \"GS30\"\n",
    "    }\n",
    "    print(\"Fetching yields from FRED...\")\n",
    "    yield_curve = {k: fred.get_series(v).iloc[-1] for k, v in terms.items()}\n",
    "    print(\"Yields fetched successfully.\")\n",
    "    return yield_curve\n",
    "    "
   ]
  },
  {
   "cell_type": "code",
   "execution_count": 23,
   "id": "46473bb0",
   "metadata": {},
   "outputs": [
    {
     "name": "stdout",
     "output_type": "stream",
     "text": [
      "Fetching yields from FRED...\n",
      "Yields fetched successfully.\n"
     ]
    },
    {
     "data": {
      "text/plain": [
       "{'1M': 4.26, '3M': 4.44, '1Y': 4.09, '5Y': 4.02, '10Y': 4.42, '30Y': 4.9}"
      ]
     },
     "execution_count": 23,
     "metadata": {},
     "output_type": "execute_result"
    }
   ],
   "source": [
    "get_yields()"
   ]
  },
  {
   "cell_type": "code",
   "execution_count": 32,
   "id": "c4a15403",
   "metadata": {},
   "outputs": [],
   "source": [
    "import matplotlib.pyplot as plt\n",
    "import pandas as pd\n",
    "from datetime import datetime\n",
    "def plot_yield_curve(yield_curve):\n",
    "    current_date = datetime.today().strftime('%Y-%m-%d')\n",
    "    plt.style.use('seaborn-darkgrid')\n",
    "    colors = plt.get_cmap('tab10')\n",
    "    terms = list(yield_curve.keys())\n",
    "    yields = list(yield_curve.values())\n",
    "\n",
    "    plt.figure(figsize=(10, 6))\n",
    "    plt.plot(terms, yields, marker='o')\n",
    "    plt.title('US Treasury Yield Curve')\n",
    "    plt.xlabel('Maturity')\n",
    "    plt.ylabel('Yield (%)')\n",
    "    plt.grid(True)\n",
    "    plt.xticks(rotation=45)\n",
    "    plt.tight_layout()\n",
    "    plt.show()\n"
   ]
  },
  {
   "cell_type": "code",
   "execution_count": 41,
   "id": "4826cc9d",
   "metadata": {},
   "outputs": [
    {
     "name": "stdout",
     "output_type": "stream",
     "text": [
      "Fetching yields from FRED...\n",
      "Yields fetched successfully.\n"
     ]
    },
    {
     "data": {
      "image/png": "[encoded data removed]",
      "text/plain": [
       "<Figure size 720x432 with 1 Axes>"
      ]
     },
     "metadata": {},
     "output_type": "display_data"
    }
   ],
   "source": [
    "plot_yield_curve(get_yields())"
   ]
  },
  {
   "cell_type": "code",
   "execution_count": 29,
   "id": "a8702ca2",
   "metadata": {},
   "outputs": [],
   "source": [
    "from fastapi import FastAPI\n",
    "\n",
    "app = FastAPI()\n",
    "\n",
    "@app.get(\"/yields\")\n",
    "def read_yields():\n",
    "    return get_yields()\n"
   ]
  },
  {
   "cell_type": "code",
   "execution_count": null,
   "id": "4cfb27b1",
   "metadata": {},
   "outputs": [],
   "source": []
  }
 ],
 "metadata": {
  "kernelspec": {
   "display_name": "base",
   "language": "python",
   "name": "python3"
  },
  "language_info": {
   "codemirror_mode": {
    "name": "ipython",
    "version": 3
   },
   "file_extension": ".py",
   "mimetype": "text/x-python",
   "name": "python",
   "nbconvert_exporter": "python",
   "pygments_lexer": "ipython3",
   "version": "3.9.12"
  }
 },
 "nbformat": 4,
 "nbformat_minor": 5
}
