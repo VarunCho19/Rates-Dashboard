{
 "cells": [
  {
   "cell_type": "code",
   "execution_count": 13,
   "id": "2f09f1dd",
   "metadata": {},
   "outputs": [],
   "source": [
    "from fastapi import FastAPI\n",
    "from fastapi.middleware.cors import CORSMiddleware\n",
    "from pydantic import BaseModel\n",
    "\n",
    "app = FastAPI()\n",
    "# Allow CORS for all origins\n",
    "origins = [\n",
    "    \"http://localhost:5173\",  # for local dev\n",
    "]\n",
    "\n",
    "app.add_middleware(\n",
    "    CORSMiddleware,\n",
    "    allow_origins=origins,  # or [\"*\"] temporarily\n",
    "    allow_credentials=True,\n",
    "    allow_methods=[\"*\"],\n",
    "    allow_headers=[\"*\"],\n",
    ")\n"
   ]
  },
  {
   "cell_type": "code",
   "execution_count": 11,
   "id": "4e3f58e8",
   "metadata": {},
   "outputs": [],
   "source": [
    "from fastapi import WebSocket, WebSocketDisconnect\n",
    "import asyncio\n",
    "import json\n",
    "import websockets\n",
    "\n",
    "COINBASE_WS_URL = \"wss://ws-feed.exchange.coinbase.com\"\n"
   ]
  },
  {
   "cell_type": "code",
   "execution_count": 14,
   "id": "8fe62a1d",
   "metadata": {},
   "outputs": [],
   "source": [
    "@app.websocket(\"/ws/orderbook\")\n",
    "async def orderbook_stream(websocket: WebSocket):\n",
    "    await websocket.accept()\n",
    "    try:\n",
    "        async with websockets.connect(COINBASE_WS_URL) as ws:\n",
    "            await ws.send(json.dumps({\n",
    "                \"type\": \"subscribe\",\n",
    "                \"channels\": [{\"name\": \"level2\", \"product_ids\": [\"BTC-USD\"]}]\n",
    "            }))\n",
    "            async for message in ws:\n",
    "                data = json.loads(message)\n",
    "                if data.get(\"type\") == \"snapshot\":\n",
    "                    if data.get(\"type\") in [\"l2update\", \"snapshot\"]:\n",
    "                        update = {\n",
    "                            \"bids\": data.get(\"bids\", []),\n",
    "                            \"asks\": data.get(\"asks\", []),\n",
    "                            \"type\": data.get(\"type\")\n",
    "                        }\n",
    "                        await websocket.send_json(update)\n",
    "    except WebSocketDisconnect:\n",
    "        pass\n",
    "    except Exception as e:\n",
    "        await websocket.close(code=1000, reason=str(e))\n",
    "        print(f\"WebSocket error: {e}\")"
   ]
  },
  {
   "cell_type": "code",
   "execution_count": 20,
   "id": "a9c1f439",
   "metadata": {},
   "outputs": [
    {
     "ename": "OSError",
     "evalue": "Multiple exceptions: [Errno 61] Connect call failed ('::1', 8000, 0, 0), [Errno 61] Connect call failed ('127.0.0.1', 8000)",
     "output_type": "error",
     "traceback": [
      "\u001b[0;31m---------------------------------------------------------------------------\u001b[0m",
      "\u001b[0;31mOSError\u001b[0m                                   Traceback (most recent call last)",
      "Input \u001b[0;32mIn [20]\u001b[0m, in \u001b[0;36m<cell line: 12>\u001b[0;34m()\u001b[0m\n\u001b[1;32m      9\u001b[0m             msg \u001b[38;5;241m=\u001b[39m \u001b[38;5;28;01mawait\u001b[39;00m websocket\u001b[38;5;241m.\u001b[39mrecv()\n\u001b[1;32m     10\u001b[0m             \u001b[38;5;28mprint\u001b[39m(\u001b[38;5;124m\"\u001b[39m\u001b[38;5;124m📨\u001b[39m\u001b[38;5;124m\"\u001b[39m, msg)\n\u001b[0;32m---> 12\u001b[0m \u001b[38;5;28;01mawait\u001b[39;00m test_ws()\n",
      "Input \u001b[0;32mIn [20]\u001b[0m, in \u001b[0;36mtest_ws\u001b[0;34m()\u001b[0m\n\u001b[1;32m      4\u001b[0m \u001b[38;5;28;01masync\u001b[39;00m \u001b[38;5;28;01mdef\u001b[39;00m \u001b[38;5;21mtest_ws\u001b[39m():\n\u001b[1;32m      5\u001b[0m     uri \u001b[38;5;241m=\u001b[39m \u001b[38;5;124m\"\u001b[39m\u001b[38;5;124mws://localhost:8000/ws/orderbook\u001b[39m\u001b[38;5;124m\"\u001b[39m\n\u001b[0;32m----> 6\u001b[0m     \u001b[38;5;28;01masync\u001b[39;00m \u001b[38;5;28;01mwith\u001b[39;00m websockets\u001b[38;5;241m.\u001b[39mconnect(uri) \u001b[38;5;28;01mas\u001b[39;00m websocket:\n\u001b[1;32m      7\u001b[0m         \u001b[38;5;28mprint\u001b[39m(\u001b[38;5;124m\"\u001b[39m\u001b[38;5;124m✅ Connected\u001b[39m\u001b[38;5;124m\"\u001b[39m)\n\u001b[1;32m      8\u001b[0m         \u001b[38;5;28;01mfor\u001b[39;00m _ \u001b[38;5;129;01min\u001b[39;00m \u001b[38;5;28mrange\u001b[39m(\u001b[38;5;241m5\u001b[39m):  \u001b[38;5;66;03m# just get 5 messages to avoid infinite loop\u001b[39;00m\n",
      "File \u001b[0;32m~/opt/anaconda3/lib/python3.9/site-packages/websockets/legacy/client.py:642\u001b[0m, in \u001b[0;36mConnect.__aenter__\u001b[0;34m(self)\u001b[0m\n\u001b[1;32m    641\u001b[0m \u001b[38;5;28;01masync\u001b[39;00m \u001b[38;5;28;01mdef\u001b[39;00m \u001b[38;5;21m__aenter__\u001b[39m(\u001b[38;5;28mself\u001b[39m) \u001b[38;5;241m-\u001b[39m\u001b[38;5;241m>\u001b[39m WebSocketClientProtocol:\n\u001b[0;32m--> 642\u001b[0m     \u001b[38;5;28;01mreturn\u001b[39;00m \u001b[38;5;28;01mawait\u001b[39;00m \u001b[38;5;28mself\u001b[39m\n",
      "File \u001b[0;32m~/opt/anaconda3/lib/python3.9/site-packages/websockets/legacy/client.py:659\u001b[0m, in \u001b[0;36mConnect.__await_impl_timeout__\u001b[0;34m(self)\u001b[0m\n\u001b[1;32m    658\u001b[0m \u001b[38;5;28;01masync\u001b[39;00m \u001b[38;5;28;01mdef\u001b[39;00m \u001b[38;5;21m__await_impl_timeout__\u001b[39m(\u001b[38;5;28mself\u001b[39m) \u001b[38;5;241m-\u001b[39m\u001b[38;5;241m>\u001b[39m WebSocketClientProtocol:\n\u001b[0;32m--> 659\u001b[0m     \u001b[38;5;28;01mreturn\u001b[39;00m \u001b[38;5;28;01mawait\u001b[39;00m asyncio\u001b[38;5;241m.\u001b[39mwait_for(\u001b[38;5;28mself\u001b[39m\u001b[38;5;241m.\u001b[39m__await_impl__(), \u001b[38;5;28mself\u001b[39m\u001b[38;5;241m.\u001b[39mopen_timeout)\n",
      "File \u001b[0;32m~/opt/anaconda3/lib/python3.9/asyncio/tasks.py:479\u001b[0m, in \u001b[0;36mwait_for\u001b[0;34m(fut, timeout, loop)\u001b[0m\n\u001b[1;32m    476\u001b[0m         \u001b[38;5;28;01mraise\u001b[39;00m\n\u001b[1;32m    478\u001b[0m \u001b[38;5;28;01mif\u001b[39;00m fut\u001b[38;5;241m.\u001b[39mdone():\n\u001b[0;32m--> 479\u001b[0m     \u001b[38;5;28;01mreturn\u001b[39;00m \u001b[43mfut\u001b[49m\u001b[38;5;241;43m.\u001b[39;49m\u001b[43mresult\u001b[49m\u001b[43m(\u001b[49m\u001b[43m)\u001b[49m\n\u001b[1;32m    480\u001b[0m \u001b[38;5;28;01melse\u001b[39;00m:\n\u001b[1;32m    481\u001b[0m     fut\u001b[38;5;241m.\u001b[39mremove_done_callback(cb)\n",
      "File \u001b[0;32m~/opt/anaconda3/lib/python3.9/site-packages/websockets/legacy/client.py:663\u001b[0m, in \u001b[0;36mConnect.__await_impl__\u001b[0;34m(self)\u001b[0m\n\u001b[1;32m    661\u001b[0m \u001b[38;5;28;01masync\u001b[39;00m \u001b[38;5;28;01mdef\u001b[39;00m \u001b[38;5;21m__await_impl__\u001b[39m(\u001b[38;5;28mself\u001b[39m) \u001b[38;5;241m-\u001b[39m\u001b[38;5;241m>\u001b[39m WebSocketClientProtocol:\n\u001b[1;32m    662\u001b[0m     \u001b[38;5;28;01mfor\u001b[39;00m redirects \u001b[38;5;129;01min\u001b[39;00m \u001b[38;5;28mrange\u001b[39m(\u001b[38;5;28mself\u001b[39m\u001b[38;5;241m.\u001b[39mMAX_REDIRECTS_ALLOWED):\n\u001b[0;32m--> 663\u001b[0m         _transport, _protocol \u001b[38;5;241m=\u001b[39m \u001b[38;5;28;01mawait\u001b[39;00m \u001b[38;5;28mself\u001b[39m\u001b[38;5;241m.\u001b[39m_create_connection()\n\u001b[1;32m    664\u001b[0m         protocol \u001b[38;5;241m=\u001b[39m cast(WebSocketClientProtocol, _protocol)\n\u001b[1;32m    665\u001b[0m         \u001b[38;5;28;01mtry\u001b[39;00m:\n",
      "File \u001b[0;32m~/opt/anaconda3/lib/python3.9/asyncio/base_events.py:1073\u001b[0m, in \u001b[0;36mBaseEventLoop.create_connection\u001b[0;34m(self, protocol_factory, host, port, ssl, family, proto, flags, sock, local_addr, server_hostname, ssl_handshake_timeout, happy_eyeballs_delay, interleave)\u001b[0m\n\u001b[1;32m   1070\u001b[0m                 \u001b[38;5;28;01mraise\u001b[39;00m exceptions[\u001b[38;5;241m0\u001b[39m]\n\u001b[1;32m   1071\u001b[0m             \u001b[38;5;66;03m# Raise a combined exception so the user can see all\u001b[39;00m\n\u001b[1;32m   1072\u001b[0m             \u001b[38;5;66;03m# the various error messages.\u001b[39;00m\n\u001b[0;32m-> 1073\u001b[0m             \u001b[38;5;28;01mraise\u001b[39;00m \u001b[38;5;167;01mOSError\u001b[39;00m(\u001b[38;5;124m'\u001b[39m\u001b[38;5;124mMultiple exceptions: \u001b[39m\u001b[38;5;132;01m{}\u001b[39;00m\u001b[38;5;124m'\u001b[39m\u001b[38;5;241m.\u001b[39mformat(\n\u001b[1;32m   1074\u001b[0m                 \u001b[38;5;124m'\u001b[39m\u001b[38;5;124m, \u001b[39m\u001b[38;5;124m'\u001b[39m\u001b[38;5;241m.\u001b[39mjoin(\u001b[38;5;28mstr\u001b[39m(exc) \u001b[38;5;28;01mfor\u001b[39;00m exc \u001b[38;5;129;01min\u001b[39;00m exceptions)))\n\u001b[1;32m   1076\u001b[0m \u001b[38;5;28;01melse\u001b[39;00m:\n\u001b[1;32m   1077\u001b[0m     \u001b[38;5;28;01mif\u001b[39;00m sock \u001b[38;5;129;01mis\u001b[39;00m \u001b[38;5;28;01mNone\u001b[39;00m:\n",
      "\u001b[0;31mOSError\u001b[0m: Multiple exceptions: [Errno 61] Connect call failed ('::1', 8000, 0, 0), [Errno 61] Connect call failed ('127.0.0.1', 8000)"
     ]
    }
   ],
   "source": [
    "import asyncio\n",
    "import websockets\n",
    "\n",
    "async def test_ws():\n",
    "    uri = \"ws://localhost:8000/ws/orderbook\"\n",
    "    async with websockets.connect(uri) as websocket:\n",
    "        print(\"✅ Connected\")\n",
    "        for _ in range(5):  # just get 5 messages to avoid infinite loop\n",
    "            msg = await websocket.recv()\n",
    "            print(\"📨\", msg)\n",
    "\n",
    "await test_ws()"
   ]
  },
  {
   "cell_type": "code",
   "execution_count": null,
   "id": "295409cd",
   "metadata": {},
   "outputs": [],
   "source": []
  }
 ],
 "metadata": {
  "kernelspec": {
   "display_name": "base",
   "language": "python",
   "name": "python3"
  },
  "language_info": {
   "codemirror_mode": {
    "name": "ipython",
    "version": 3
   },
   "file_extension": ".py",
   "mimetype": "text/x-python",
   "name": "python",
   "nbconvert_exporter": "python",
   "pygments_lexer": "ipython3",
   "version": "3.9.12"
  }
 },
 "nbformat": 4,
 "nbformat_minor": 5
}
